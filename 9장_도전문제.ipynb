{
  "nbformat": 4,
  "nbformat_minor": 0,
  "metadata": {
    "colab": {
      "name": "9장 도전문제",
      "provenance": [],
      "authorship_tag": "ABX9TyOMM+JiRjZVDp8PKZCDYECY",
      "include_colab_link": true
    },
    "kernelspec": {
      "name": "python3",
      "display_name": "Python 3"
    },
    "language_info": {
      "name": "python"
    }
  },
  "cells": [
    {
      "cell_type": "markdown",
      "metadata": {
        "id": "view-in-github",
        "colab_type": "text"
      },
      "source": [
        "<a href=\"https://colab.research.google.com/github/sulim1112/python/blob/main/9%EC%9E%A5_%EB%8F%84%EC%A0%84%EB%AC%B8%EC%A0%9C.ipynb\" target=\"_parent\"><img src=\"https://colab.research.google.com/assets/colab-badge.svg\" alt=\"Open In Colab\"/></a>"
      ]
    },
    {
      "cell_type": "markdown",
      "source": [
        "p264(1)"
      ],
      "metadata": {
        "id": "XH4FCInnYj8F"
      }
    },
    {
      "cell_type": "code",
      "source": [
        "import random\n",
        "\n",
        "question = [\"56/8\",\"8*9\",\"50-25\",\"1+6\",\"81/9\",\"22 +10\",\"8/4\",\"9*7\",\"17-4\",\"3+5\"]\n",
        "dailyQuestion = random.choice(question)\n",
        "print(\"#########################\")\n",
        "print(\"# 오늘의 산수 문제#\")\n",
        "print(\"#########################\")\n",
        "print(\"\")\n",
        "print(dailyQuestion)"
      ],
      "metadata": {
        "colab": {
          "base_uri": "https://localhost:8080/"
        },
        "id": "lSXoiCjPYn_U",
        "outputId": "803e998c-f1d0-4f9c-85ac-fe44f03a2941"
      },
      "execution_count": null,
      "outputs": [
        {
          "output_type": "stream",
          "name": "stdout",
          "text": [
            "#########################\n",
            "# 오늘의 산수 문제#\n",
            "#########################\n",
            "\n",
            "8*9\n"
          ]
        }
      ]
    },
    {
      "cell_type": "markdown",
      "source": [
        "p272(1)"
      ],
      "metadata": {
        "id": "RjyB5MuaaugA"
      }
    },
    {
      "cell_type": "code",
      "source": [
        "while True:\n",
        "print(\"\")\n",
        "print(\"# 재고 목록 #\")\n",
        "for key in sorted(items.keys()): print(key, items[key])\n",
        "\n",
        "print(\"\\n********************\")\n",
        "print(\"0. 종료\")\n",
        "print(\"1. 재고 추가\")\n",
        "print(\"2. 재고 삭제\") \n",
        "print(\"********************\\n\")\n",
        "a = int(input(\"무엇을 하시겠습니까?: \"))\n",
        "\n",
        "if a == 1:\n",
        "     item = input(\"물건의 이름을 입력하시오: \") \n",
        "     num = input(\"몇개를 추가하시겠습니까? :\") \n",
        "     items[item] = int(items[item]) + int(num)\n",
        "\n",
        "elif a == 2:\n",
        "    item = input(\"물건의 이름을 입력하시오: \") \n",
        "    num = input(\"몇개를 삭제하시겠습니까? :\") \n",
        "    items[item] = int(items[item]) - int(num)\n",
        "\n",
        "\n",
        "else:\n",
        "    break"
      ],
      "metadata": {
        "id": "GBGhAkQ7Mcjq"
      },
      "execution_count": null,
      "outputs": []
    },
    {
      "cell_type": "markdown",
      "source": [
        "273(1)"
      ],
      "metadata": {
        "id": "V_RwMrE3MdkV"
      }
    },
    {
      "cell_type": "code",
      "source": [
        "english_dict = dict()\n",
        "\n",
        "english_dict['하나'] = 'one' \n",
        "english_dict['둘'] = 'two' \n",
        "english_dict['셋'] = 'three'\n",
        "\n",
        "word = input(\"단어를 입력하시오: \") \n",
        "print (english_dict[word])"
      ],
      "metadata": {
        "id": "ediwbnxgMhs-"
      },
      "execution_count": null,
      "outputs": []
    },
    {
      "cell_type": "markdown",
      "source": [
        "page274(1) "
      ],
      "metadata": {
        "id": "o59hoJCuMrXT"
      }
    },
    {
      "cell_type": "code",
      "source": [
        "import smtplib\n",
        "from email.mime.text import MIMEText\n",
        "\n",
        "me = 'abc@server.kr'\t# 보내는 사람 메일 주소\n",
        "you   =   ['def1@server.com','def2@server.com','def3@server.com']\t# 받는 사람 메일 주 소\n",
        "contents = '12월 20일에 동창회가 있으니 참석해주시기 바랍니다.'\n",
        "\n",
        "msg = MIMEText(contents, _charset='euc-kr') \n",
        "msg['Subject'] = '동창회 모임'\n",
        "msg['From'] = me \n",
        "msg['To'] = you\n",
        "\n",
        "server = smtplib.SMTP('smtp.gmail.com', 587) \n",
        "server.ehlo()\n",
        "server.starttls() \n",
        "server.ehlo()\n",
        "\n",
        "server.login(\"자신의 아이디\", \"패스워드\") \n",
        "\n",
        "for i in range(len(you)):\n",
        "    server.sendmail(me, you[i], msg.as_string()) \n",
        "server.quit()"
      ],
      "metadata": {
        "id": "HISMclW-Ms_S"
      },
      "execution_count": null,
      "outputs": []
    }
  ]
}