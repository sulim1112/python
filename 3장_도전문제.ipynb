{
  "nbformat": 4,
  "nbformat_minor": 0,
  "metadata": {
    "colab": {
      "name": "3장 도전문제",
      "provenance": [],
      "authorship_tag": "ABX9TyNCwBtuBTShQvo9yQqAYpZB",
      "include_colab_link": true
    },
    "kernelspec": {
      "name": "python3",
      "display_name": "Python 3"
    },
    "language_info": {
      "name": "python"
    }
  },
  "cells": [
    {
      "cell_type": "markdown",
      "metadata": {
        "id": "view-in-github",
        "colab_type": "text"
      },
      "source": [
        "<a href=\"https://colab.research.google.com/github/sulim1112/python/blob/main/3%EC%9E%A5_%EB%8F%84%EC%A0%84%EB%AC%B8%EC%A0%9C.ipynb\" target=\"_parent\"><img src=\"https://colab.research.google.com/assets/colab-badge.svg\" alt=\"Open In Colab\"/></a>"
      ]
    },
    {
      "cell_type": "markdown",
      "metadata": {
        "id": "yojUYd81kLZR"
      },
      "source": [
        "3장 도전문제\n"
      ]
    },
    {
      "cell_type": "code",
      "metadata": {
        "colab": {
          "base_uri": "https://localhost:8080/"
        },
        "id": "4ZAAHBzikO0Y",
        "outputId": "9e820bf4-c00f-4fbb-f09f-f2710c26ed54"
      },
      "source": [
        "total = 100000  #총 재료 비용\n",
        "americano_price = 2000\n",
        "cafelatte_price = 3000\n",
        "capucino_price = 3500\n",
        "\n",
        "americanos = int(input(\"아메리카노 판매 개수: \"))\n",
        "cafelattes = int(input(\"카페라테 판매 개수: \"))\n",
        "capucinos = int(input(\"카푸치노 판매 개수: \"))\n",
        "\n",
        "sales = americanos*americano_price\n",
        "sales = sales + cafelattes * cafelatte_price\n",
        "sales = sales + capucinos * capucino_price\n",
        "print(\"총 매출은\", sales, \"입니다.\")\n",
        "\n",
        "if (total < sales): print(\"흑자입니다.\")\n",
        "else : print(\"적자입니다.\")"
      ],
      "execution_count": null,
      "outputs": [
        {
          "output_type": "stream",
          "name": "stdout",
          "text": [
            "아메리카노 판매 개수: 30\n",
            "카페라테 판매 개수: 24\n",
            "카푸치노 판매 개수: 18\n",
            "총 매출은 195000 입니다.\n",
            "흑자입니다.\n"
          ]
        }
      ]
    },
    {
      "cell_type": "code",
      "metadata": {
        "colab": {
          "base_uri": "https://localhost:8080/"
        },
        "id": "yjVxM1ppp0YR",
        "outputId": "05ee1486-2c5a-4780-9f35-f738c43aeb59"
      },
      "source": [
        "ctemp = int(input(\"섭씨온도: \"))\n",
        "ftemp = 9/5*ctemp+32\n",
        "print(\"화씨온도: \",ftemp)"
      ],
      "execution_count": null,
      "outputs": [
        {
          "output_type": "stream",
          "name": "stdout",
          "text": [
            "섭씨온도: 32\n",
            "화씨온도:  89.6\n"
          ]
        }
      ]
    },
    {
      "cell_type": "code",
      "metadata": {
        "colab": {
          "base_uri": "https://localhost:8080/"
        },
        "id": "SaNi5L6sq3EU",
        "outputId": "6ff0b97b-8a53-4de8-f49c-b99a8f3a502c"
      },
      "source": [
        "money = int(input(\"투입한 돈: \"))\n",
        "price = int(input(\"물건 값: \"))\n",
        "\n",
        "change = money - capucino_price\n",
        "print(\"거스름돈: \",change)\n",
        "coin500s = change // 500  #500으로 나누어서 몫이 500원짜리의 개수\n",
        "change = change % 500  #500으로 나눈 나머지를 계산한다.\n",
        "coin100s = change // 100  #100으로 나누어서 몫이 100원짜리의 개수\n",
        "change = change % 100  #100으로 나눈 나머지를 계산한다.\n",
        "coin50s = change // 50  #50으로 나누어서 몫이 500원짜리의 개수\n",
        "change = change % 50  #50으로 나눈 나머지를 계산한다.\n",
        "coin10s = change // 10  #10으로 나누어서 몫이 500원짜리의 개수\n",
        "change = change % 10  #10으로 나눈 나머지를 계산한다.\n",
        "print(\"500원 동전의 개수: \", coin500s)\n",
        "print(\"100원 동전의 개수: \", coin100s)\n",
        "print(\"50원 동전의 개수: \", coin50s)\n",
        "print(\"10원 동전의 개수:\", coin10s)"
      ],
      "execution_count": null,
      "outputs": [
        {
          "output_type": "stream",
          "name": "stdout",
          "text": [
            "투입한 돈: 10000\n",
            "물건 값: 5200\n",
            "거스름돈:  6500\n",
            "500원 동전의 개수:  13\n",
            "100원 동전의 개수:  0\n",
            "50원 동전의 개수:  0\n",
            "10원 동전의 개수: 0\n"
          ]
        }
      ]
    },
    {
      "cell_type": "code",
      "metadata": {
        "colab": {
          "base_uri": "https://localhost:8080/"
        },
        "id": "WeEaAjMCvRNM",
        "outputId": "f69db580-c934-4928-dbca-b8de41c5bddc"
      },
      "source": [
        "money = int(input(\"투입한 돈: \")) # 변수 money를 선언하고 정수형으로 받는다.\n",
        "price = int(input(\"물건 값: \")) # 변수 price를 선언하고 정수로 받는다.\n",
        "\n",
        "change = money - price # 거스름돈을 계산한다.\n",
        "coin500s = change // 500  #500으로 나누어서 몫이 500원짜리의 개수이다.\n",
        "change = change % 500  #500으로 나눈 나머지를 계산한다.\n",
        "coin100s = change // 100  #100으로 나누어서 몫이 100원짜리의 개수이다.\n",
        "print(\"500원 동전의 개수: \", coin500s)  #거슬러줄 500원짜리의 개수를 출력한다.\n",
        "print(\"100원 동전의 개수: \", coin100s)  #거슬러줄 100원짜리의 개수를 출력한다."
      ],
      "execution_count": null,
      "outputs": [
        {
          "output_type": "stream",
          "name": "stdout",
          "text": [
            "투입한 돈: 7000\n",
            "물건 값: 6000\n",
            "500원 동전의 개수:  2\n",
            "100원 동전의 개수:  0\n"
          ]
        }
      ]
    }
  ]
}