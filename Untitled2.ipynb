{
  "nbformat": 4,
  "nbformat_minor": 0,
  "metadata": {
    "colab": {
      "name": "Untitled2.ipynb",
      "provenance": [],
      "authorship_tag": "ABX9TyPZqo4UHE+SXTgwl8j30Is0",
      "include_colab_link": true
    },
    "kernelspec": {
      "name": "python3",
      "display_name": "Python 3"
    },
    "language_info": {
      "name": "python"
    }
  },
  "cells": [
    {
      "cell_type": "markdown",
      "metadata": {
        "id": "view-in-github",
        "colab_type": "text"
      },
      "source": [
        "<a href=\"https://colab.research.google.com/github/sulim1112/python/blob/main/Untitled2.ipynb\" target=\"_parent\"><img src=\"https://colab.research.google.com/assets/colab-badge.svg\" alt=\"Open In Colab\"/></a>"
      ]
    },
    {
      "cell_type": "code",
      "metadata": {
        "id": "uMvJaYR5rp-O"
      },
      "source": [
        ""
      ],
      "execution_count": null,
      "outputs": []
    },
    {
      "cell_type": "markdown",
      "metadata": {
        "id": "c6xIKOn5rqWa"
      },
      "source": [
        "1장 도전문제"
      ]
    },
    {
      "cell_type": "code",
      "metadata": {
        "colab": {
          "base_uri": "https://localhost:8080/"
        },
        "id": "jNWdiJ-oruJZ",
        "outputId": "d79061c6-b9ee-420b-a332-0f34c373d10b"
      },
      "source": [
        "print(\"안녕하세요\")"
      ],
      "execution_count": 1,
      "outputs": [
        {
          "output_type": "stream",
          "name": "stdout",
          "text": [
            "안녕하세요\n"
          ]
        }
      ]
    },
    {
      "cell_type": "code",
      "metadata": {
        "colab": {
          "base_uri": "https://localhost:8080/"
        },
        "id": "C93WIWjNr5MK",
        "outputId": "252596e9-6fb9-4359-db36-aa99e7d30d6c"
      },
      "source": [
        "print(\"programming에 입문하신 것을 축하드립니다.\")"
      ],
      "execution_count": 2,
      "outputs": [
        {
          "output_type": "stream",
          "name": "stdout",
          "text": [
            "programming에 입문하신 것을 축하드립니다.\n"
          ]
        }
      ]
    },
    {
      "cell_type": "code",
      "metadata": {
        "colab": {
          "base_uri": "https://localhost:8080/"
        },
        "id": "z3FHKXdksFYS",
        "outputId": "4a71ebb0-c282-43ff-eea6-bcc56926905a"
      },
      "source": [
        "print(3.141592*10.0*10.0)"
      ],
      "execution_count": 3,
      "outputs": [
        {
          "output_type": "stream",
          "name": "stdout",
          "text": [
            "314.1592\n"
          ]
        }
      ]
    },
    {
      "cell_type": "code",
      "metadata": {
        "colab": {
          "base_uri": "https://localhost:8080/"
        },
        "id": "Rgl14AUnsRQZ",
        "outputId": "3b8f33ae-3861-4248-9a2e-653d2ea3fef6"
      },
      "source": [
        "print((1/100)*1234)"
      ],
      "execution_count": 4,
      "outputs": [
        {
          "output_type": "stream",
          "name": "stdout",
          "text": [
            "12.34\n"
          ]
        }
      ]
    },
    {
      "cell_type": "code",
      "metadata": {
        "id": "hYXVdt0fvQtl"
      },
      "source": [
        "import turtle        #trutle모듈을 불러온다.\n",
        "t = turtle.Turtle()  #turtle을 t로 선언  import turtle as t 할 수 있다.\n",
        "t.shape(\"turtle\");   #turtle모듈의 아이콘을 거북이 모양으로 선언\n",
        "                     #기본 아이콘은 classic, 삼각형은 triangle. 원은 circle\n",
        "t.forward(100);  #100픽셀만큼 직진(이동 길이 즉, 각 변의 길이)\n",
        "t.left(120);  #120도 회전(회전각도 즉, 외각이 120도를 이뤄야 정삼각형 내각 60도가 만들어진다)\n",
        "t.forward(100);  #100픽셀만큼 직진\n",
        "t.left(120); #120도 회전\n",
        "t.forward(100); #100픽셀만큼 직진\n",
        "t.left(120); #120도 회전\n"
      ],
      "execution_count": null,
      "outputs": []
    },
    {
      "cell_type": "code",
      "metadata": {
        "id": "n7qFC8MfvR-h"
      },
      "source": [
        "import turtle\n",
        "t = turtle.Turtle()\n",
        "t.shape(\"turtle\");\n",
        "\n",
        "t.forward(100);  #100픽셀만큼 직진(이동 길이=각 변의 길이)\n",
        "t.left(90);  #90도 회전\n",
        "t.forward(100);  #100픽셀만큼 직진\n",
        "t.left(90);  #90도 회전\n",
        "t.forward(100); #100픽셀만큼 직진\n",
        "t.left(90);  #90도 회전\n",
        "t.forward(100); #100픽셀만큼 직진\n",
        "t.left(90); #90도 회전\n"
      ],
      "execution_count": null,
      "outputs": []
    },
    {
      "cell_type": "code",
      "metadata": {
        "id": "AKd02gbH0SoA"
      },
      "source": [
        "import turtle\n",
        "t = turtle.Turtle()\n",
        "t.shape(\"turtle\");\n",
        "\n",
        "t.forward(100);\n",
        "t.left(60);\n",
        "t.forward(100);\n",
        "t.left(60);\n",
        "t.forward(100);\n",
        "t.left(60);\n",
        "t.forward(100);\n",
        "t.left(60);\n",
        "t.forward(100);\n",
        "t.left(60);\n",
        "t.forward(100);\n",
        "t.left(60);\n"
      ],
      "execution_count": null,
      "outputs": []
    },
    {
      "cell_type": "code",
      "metadata": {
        "id": "fH-B2SnJ2g_y"
      },
      "source": [
        ""
      ],
      "execution_count": null,
      "outputs": []
    }
  ]
}