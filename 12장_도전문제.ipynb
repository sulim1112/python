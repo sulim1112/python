{
  "nbformat": 4,
  "nbformat_minor": 0,
  "metadata": {
    "colab": {
      "name": "12장 도전문제",
      "provenance": [],
      "authorship_tag": "ABX9TyOHBq/8ltJHuGf5UWMTm/hN",
      "include_colab_link": true
    },
    "kernelspec": {
      "name": "python3",
      "display_name": "Python 3"
    },
    "language_info": {
      "name": "python"
    }
  },
  "cells": [
    {
      "cell_type": "markdown",
      "metadata": {
        "id": "view-in-github",
        "colab_type": "text"
      },
      "source": [
        "<a href=\"https://colab.research.google.com/github/sulim1112/python/blob/main/12%EC%9E%A5_%EB%8F%84%EC%A0%84%EB%AC%B8%EC%A0%9C.ipynb\" target=\"_parent\"><img src=\"https://colab.research.google.com/assets/colab-badge.svg\" alt=\"Open In Colab\"/></a>"
      ]
    },
    {
      "cell_type": "markdown",
      "source": [
        "page353.(1~2)"
      ],
      "metadata": {
        "id": "hSLwBXTNRitC"
      }
    },
    {
      "cell_type": "code",
      "source": [
        "from PIL import Image, ImageTk, ImageFilter import tkinter as tk\n",
        "\n",
        "from tkinter import filedialog as fd\n",
        "\n",
        "im = None \n",
        "tk_img = None\n",
        "\n",
        "# 파일 메뉴에서 \"열기\"를 선택하였을 때 호출되는 함수 \n",
        "def open():\n",
        "global im, tk_img\n",
        "fname = fd.askopenfilename() \n",
        "im = Image.open(fname)\n",
        "tk_img = ImageTk.PhotoImage(im) \n",
        "canvas.create_image(250,250,image=tk_img) \n",
        "window.update()\n",
        "\n",
        "# 파일 메뉴에서 \"종료\"를 선택하였을 때 호출되는 함수 \n",
        "def quit():\n",
        "window.quit()\n",
        "\n",
        "# 영상처리 메뉴에서 \"영상회전\"을 선택하였을 때 호출되는 함수 \n",
        "def image_rotate():\n",
        "global im, tk_img \n",
        "out = im.rotate(45)\n",
        "tk_img = ImageTk.PhotoImage(out) \n",
        "canvas.create_image(250,250,image=tk_img) \n",
        "window.update()\n",
        "\n",
        "# 영상처리 메뉴에서 \"영상흐리기\"를 선택하였을 때 호출되는 함수 \n",
        "def image_blur():\n",
        "global im, tk_img\n",
        "out = im.filter(ImageFilter.BLUR) \n",
        "tk_img = ImageTk.PhotoImage(out)\n",
        "canvas.create_image(250,250,image=tk_img) \n",
        "window.update()\n",
        "\n",
        "# 영상처리 메뉴에서 \"흑백영상\"를 선택하였을 때 호출되는 함수 \n",
        "def image_grayscale():\n",
        "global im, tk_img \n",
        "im1 =im.convert('L')\n",
        "tk_img = ImageTk.PhotoImage(im1) \n",
        "canvas.create_image(250,250,image=tk_img) \n",
        "window.update()\n",
        "\n",
        "\n",
        "# 영상처리 메뉴에서 \"이진화\"를 선택하였을 때 호출되는 함수 \n",
        "def image_bin():\n",
        "global im, tk_img \n",
        "im1 =im.convert('1')\n",
        "tk_img = ImageTk.PhotoImage(im1) \n",
        "canvas.create_image(250,250,image=tk_img) \n",
        "window.update()\n",
        "\n",
        "# 영상처리 메뉴에서 \"영상뚜렷하게\"를 선택하였을 때 호출되는 함수 \n",
        "def image_sharp():\n",
        "global im, tk_img\n",
        "out  =  im.filter(ImageFilter.SHARPEN) \n",
        "tk_img = ImageTk.PhotoImage(out) \n",
        "canvas.create_image(250,250,image=tk_img) \n",
        "window.update()\n",
        "\n",
        "# 영상처리 메뉴에서 \"엠보스\"를 선택하였을 때 호출되는 함수 \n",
        "def image_emboss():\n",
        "global im, tk_img\n",
        "out = im.filter(ImageFilter.EMBOSS) \n",
        "tk_img = ImageTk.PhotoImage(out)\n",
        "canvas.create_image(250,250,image=tk_img)\n",
        "window.update()\n",
        "\n",
        "# 윈도우를 생성한다. \n",
        "window = tk.Tk()\n",
        "canvas = tk.Canvas(window,width=500,height=500) \n",
        "canvas.pack()\n",
        "\n",
        "# 메뉴를 생성한다.\n",
        "menubar = tk.Menu(window) \n",
        "filemenu = tk.Menu(menubar) \n",
        "ipmenu = tk.Menu(menubar)\n",
        "filemenu.add_command(label=\"열기\", command = open) \n",
        "filemenu.add_command(label=\"종료\", command = quit) \n",
        "ipmenu.add_command(label=\"영상회전\", command=image_rotate) \n",
        "ipmenu.add_command(label=\"영상흐리게\", command=image_blur) \n",
        "ipmenu.add_command(label=\"흑백영상\", command=image_grayscale) \n",
        "ipmenu.add_command(label=\"이진화\", command=image_bin) \n",
        "ipmenu.add_command(label=\"영상뚜렷하게\", command=image_sharp)\n",
        "ipmenu.add_command(label=\"엠보스\", command=image_emboss) \n",
        "menubar.add_cascade(label=\"파일\",menu=filemenu) \n",
        "menubar.add_cascade(label=\"영상처리\",menu=ipmenu)\n",
        "\n",
        "window.config(menu=menubar) \n",
        "window.mainloop()"
      ],
      "metadata": {
        "id": "ZrlLbSzPRl7N"
      },
      "execution_count": null,
      "outputs": []
    }
  ]
}