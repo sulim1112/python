{
  "nbformat": 4,
  "nbformat_minor": 0,
  "metadata": {
    "colab": {
      "name": "벡터",
      "provenance": [],
      "authorship_tag": "ABX9TyO/RyCmZIMh3OMMtChcxXFd",
      "include_colab_link": true
    },
    "kernelspec": {
      "name": "python3",
      "display_name": "Python 3"
    },
    "language_info": {
      "name": "python"
    }
  },
  "cells": [
    {
      "cell_type": "markdown",
      "metadata": {
        "id": "view-in-github",
        "colab_type": "text"
      },
      "source": [
        "<a href=\"https://colab.research.google.com/github/sulim1112/python/blob/main/%EB%B2%A1%ED%84%B0.ipynb\" target=\"_parent\"><img src=\"https://colab.research.google.com/assets/colab-badge.svg\" alt=\"Open In Colab\"/></a>"
      ]
    },
    {
      "cell_type": "markdown",
      "metadata": {
        "id": "9pkA17E54Ite"
      },
      "source": [
        "벡터는 물리학과 공학에서 방향과 크기를 나타내고 선형대수학에서 벡터 공간의 원소를 일컫는다.\n",
        "\n",
        "\n",
        "\n",
        "크기와 방향을 가지는 양을 벡터(vector)라 한다.\n",
        "\n",
        "점 \n",
        "A\n",
        "에서 점 \n",
        "B\n",
        "로 향하는 벡터가 있다고 할 때, 점 \n",
        "A\n",
        "를 시점, 점 \n",
        "B\n",
        "를 종점이라 하고, 기호로 \n",
        "−−→\n",
        "A\n",
        "B\n",
        "와 같이 나타낸다."
      ]
    }
  ]
}