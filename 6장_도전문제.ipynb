{
  "nbformat": 4,
  "nbformat_minor": 0,
  "metadata": {
    "colab": {
      "name": "6장 도전문제",
      "provenance": [],
      "authorship_tag": "ABX9TyMP1iJ879VGOILrbyqQG2nc",
      "include_colab_link": true
    },
    "kernelspec": {
      "name": "python3",
      "display_name": "Python 3"
    },
    "language_info": {
      "name": "python"
    }
  },
  "cells": [
    {
      "cell_type": "markdown",
      "metadata": {
        "id": "view-in-github",
        "colab_type": "text"
      },
      "source": [
        "<a href=\"https://colab.research.google.com/github/sulim1112/python/blob/main/6%EC%9E%A5_%EB%8F%84%EC%A0%84%EB%AC%B8%EC%A0%9C.ipynb\" target=\"_parent\"><img src=\"https://colab.research.google.com/assets/colab-badge.svg\" alt=\"Open In Colab\"/></a>"
      ]
    },
    {
      "cell_type": "code",
      "metadata": {
        "id": "OMJobD70xFya"
      },
      "source": [
        "import turtle\n",
        "t = turtle.Turtle()\n",
        "t.shape(\"turtle\")\n",
        "s = turtle.textinput(\"\",\"몇각형을 원하시나요? : \")\n",
        "n = int(s)\n",
        "s = turtle.textinput(\"\",\"한변의 크기를 입력해주세요 : \")\n",
        "len = int(s)\n",
        "for i in range(n): \n",
        "      t.forward(len) \n",
        "      t.left(360/n)"
      ],
      "execution_count": null,
      "outputs": []
    },
    {
      "cell_type": "code",
      "metadata": {
        "id": "soWV5IkGy0J0"
      },
      "source": [
        "import turtle\n",
        "import random\n",
        "t = turtle.Turtle()\n",
        "t.shape(\"turtle\")\n",
        "for i in range(30): \n",
        "      length = random.randint(1,100) \n",
        "      t.forward(length) \n",
        "      angle = random.randint(1,4) \n",
        "      t.right(90 * angle"
      ],
      "execution_count": null,
      "outputs": []
    },
    {
      "cell_type": "code",
      "metadata": {
        "id": "GUWOhKiizvUp"
      },
      "source": [
        "i = 1\n",
        "while i <= 9:\n",
        "     j = 1\n",
        "     while j <= 9: \n",
        "           print(i, \"*\", j, \"=\", i*j) \n",
        "           j = j+1\n",
        " print(\" \") \n",
        " i = i+1"
      ],
      "execution_count": null,
      "outputs": []
    },
    {
      "cell_type": "code",
      "metadata": {
        "id": "-URwnNjZzxO6"
      },
      "source": [
        "import turtle\n",
        "t = turtle.Turtle()\n",
        "t.shape(\"turtle\")\n",
        "\n",
        "i = 0\n",
        "while i < 5:\n",
        "     t.forward(50)\n",
        "     t.right(144)"
      ],
      "execution_count": null,
      "outputs": []
    },
    {
      "cell_type": "code",
      "metadata": {
        "id": "OdXaUp1cz8zH"
      },
      "source": [
        "import turtle\n",
        "import random\n",
        "\n",
        "# 색상은 리스트에 저장했다가 하나씩 꺼내서 변경하도록 하자. \n",
        "colors = [\"red\", \"purple\", \"blue\", \"green\", \"yellow\", \"orange\"]\n",
        "t = turtle.Turtle()\n",
        "\n",
        "# 배경색은 다음과 같은 문장으로 변경이 가능하다. \n",
        "turtle.bgcolor(\"black\")\n",
        "\n",
        "# 거북이의 속도는 0으로 설정하면 최대가 된다. \n",
        "t.speed(0)\n",
        "\n",
        "# 거북이가 그리는 선의 두께는 width()를 호출하면 된다.\n",
        "t.width(3)\n",
        "\n",
        "length = 10    # 초기 선의 길이는 10으로 한다.\n",
        "\n",
        "#while 반복문이다. 선의 길이가 500보다 작으면 반복한다.\n",
        "while length < 500: \n",
        "     t.forward(length) # length만큼 전진한다. \n",
        "     t.pencolor(colors[length%6]) # 선의 색상을 변경한다. \n",
        "     angle = random.randint(1,100) \n",
        "     t.right(angle) # 랜덤한 각도로 회전한다. \n",
        "     length += 5  # 선의 길이를 5만큼 증가한다."
      ],
      "execution_count": null,
      "outputs": []
    },
    {
      "cell_type": "code",
      "metadata": {
        "id": "FLBvH6q71910"
      },
      "source": [
        "import random\n",
        "\n",
        "tries = 0\n",
        "guess = 0\n",
        "answer = random.randint(1,100)\n",
        "\n",
        "print(\"1부터 100 사이의 숫자를 맞추시오: \")\n",
        "\n",
        "while guess != answer: \n",
        "      if tries < 10: \n",
        "        guess = int(input(\"숫자를 입력하시오: \")) \n",
        "        tries = tries + 1\n",
        "        if guess < answer: \n",
        "          print(\"낮음!\") \n",
        "        elif guess > answer: \n",
        "          print(\"높음!\") \n",
        "          else: \n",
        "            print(\"시도횟수를 초과하였습니다.\")\n",
        "          break\n",
        "\n",
        "if guess == answer:\n",
        "   print(\"축하합니다. 시도횟수= \", tries)\n",
        "else:\n",
        "   print(\"정답은 \", answer)"
      ],
      "execution_count": null,
      "outputs": []
    },
    {
      "cell_type": "code",
      "metadata": {
        "id": "UJc1fM1P2RH6"
      },
      "source": [
        "import random\n",
        "\n",
        "while True\n",
        "q = random.randint(0,1) \n",
        "x = random.randint(1,100) \n",
        "y = random.randint(1,100) \n",
        "if (q == 1) & (x > y): \n",
        "    print(x, \"-\", y, \"=\", end= \" \")   \n",
        "    answer = int(input()) \n",
        "    if answer == x - y:\n",
        "       print(\"잘했어요!!\") \n",
        "    else: \n",
        "      print(\"다음번에는 잘할 수 있죠?\")\n",
        " else:\n",
        "    print(x, \"+\", y, \"=\", end= \" \") \n",
        "    answer = int(input()) \n",
        "    if answer == x + y:\n",
        "       print(\"잘했어요!!\") \n",
        "       else: \n",
        "         print(\"다음번에는 잘할 수 있죠?\")"
      ],
      "execution_count": null,
      "outputs": []
    },
    {
      "cell_type": "code",
      "metadata": {
        "id": "YWqUkU8B2uBM"
      },
      "source": [
        "import random\n",
        "number = random.randint(1,8)\n",
        "\n",
        "list = [\"한 점의 의심도 없이 맞습니다.\", \"할 수 있습니다.\", \"물론입니다.\", \"글쎄요. 열심히 해야 할\n",
        "것입니다.\", \"안 될 것 같습니다.\", \"조금 더 노력하세요.\", \"행운을 빕니다.\", \"다음 달에 할 수 있을\n",
        "겁니다.\"]\n",
        "\n",
        "while True: \n",
        "      name = input(\"이름: (종료하려면 엔터키) \") \n",
        "      if name == '': \n",
        "        break; \n",
        "      question = input(\"무엇에 대하여 알고 싶은가요? \") \n",
        "      print(name, \"님\", \"\\\"\", question ,\"\\\"에 대하여 질문 주셨군요.\") \n",
        "      print(\"운명의 주사위를 굴려볼게요...\")\n",
        "       print(list[number-1])"
      ],
      "execution_count": null,
      "outputs": []
    }
  ]
}