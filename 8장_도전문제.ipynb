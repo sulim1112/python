{
  "nbformat": 4,
  "nbformat_minor": 0,
  "metadata": {
    "colab": {
      "name": "8장 도전문제",
      "provenance": [],
      "authorship_tag": "ABX9TyMSsrSILU95a9ZzJhaJ69uU",
      "include_colab_link": true
    },
    "kernelspec": {
      "name": "python3",
      "display_name": "Python 3"
    },
    "language_info": {
      "name": "python"
    }
  },
  "cells": [
    {
      "cell_type": "markdown",
      "metadata": {
        "id": "view-in-github",
        "colab_type": "text"
      },
      "source": [
        "<a href=\"https://colab.research.google.com/github/sulim1112/python/blob/main/8%EC%9E%A5_%EB%8F%84%EC%A0%84%EB%AC%B8%EC%A0%9C.ipynb\" target=\"_parent\"><img src=\"https://colab.research.google.com/assets/colab-badge.svg\" alt=\"Open In Colab\"/></a>"
      ]
    },
    {
      "cell_type": "code",
      "execution_count": null,
      "metadata": {
        "id": "1lcGf5izQb3I"
      },
      "outputs": [],
      "source": [
        "import turtle #터틀 그래픽 모듈을 불러온다.\n",
        "import random  #난수 모듈을 불러온다.\n",
        "\n",
        "screen = turtle.Screen()\n",
        "image1 =\"D:/rabbit.gif\"\n",
        "image2 =\"D:/turtle.gif\"\n",
        "image3 =\"D:/turtle2.gif\"\n",
        "screen.addshape(image1)\n",
        "screen.addshape(image2)\n",
        "screen.addshape(image3)\n",
        "\n",
        "t1 = turtle.Turtle()  #첫 번째 거북이를 생성한다.\n",
        "t1.shape(image1)\n",
        "t1.pensize(5) #펜 두께를 5로 설정한다.\n",
        "t1.penup() #펜을 든다.\n",
        "t1.goto(-300, 0) #(-300,0)위치로 간다.\n",
        "\n",
        "t2 = turtle.Turtle() #두번째 거북이를 생성한다.\n",
        "t2.shape(image2)\n",
        "t2.pensize(5) #펜 두께를 5로 설정한다.\n",
        "t2.penup() #펜을 든다.\n",
        "t2.goto(-300, -100)  #(-300,-100)위치로 이동한다.\n",
        "\n",
        "t3 = turtle.Turtle() #세번째 거북이를 생성한다.\n",
        "t3.shape(image2)\n",
        "t3.pensize(5) #펜 두께를 5로 설정한다.\n",
        "t3.penup() #펜을 든다.\n",
        "t3.goto(-300,-200)  #(-300,-200)위치로 이동한다.\n",
        "\n",
        "t1.pendown() #첫번째 거북이의 펜을 내린다.\n",
        "t2.pendown() #두번째 거북이의 펜을 내린다.\n",
        "t3.pendown() #세번째 거북이의 펜을 내린다.\n",
        "t1.speed(1) #첫번째 거북이의 속도를 1로 한다.\n",
        "t2.speed(1) #두번째 거북이의 속도를 1로 한다.\n",
        "t3.speed(1) #세번째 거북이의 속도를 1로 한다.\n",
        "\n",
        "for i in range(100): #100번 반복한다.\n",
        "     d1 = random.randint(1,60)  #1부터 60까지 난수를 발생시킨다.\n",
        "     t1.forward(d1) #첫번째 거북이가 난수만큼 이동한다.\n",
        "     d2 = random.randint(1,60)  #1부터 60까지 난수를 발생시킨다.\n",
        "     t2.forward(d2) #두번째 거북이가 생성된 난수만큼 이동한다.\n",
        "     d3 = random.randint(1,60) #1부터 60까지 난수를 발생시킨다.\n",
        "     t3.forward(d3) #세번째 거북이가 생성된 난수만큼 이동한다."
      ]
    }
  ]
}