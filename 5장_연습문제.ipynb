{
  "nbformat": 4,
  "nbformat_minor": 0,
  "metadata": {
    "colab": {
      "name": "5장 연습문제",
      "provenance": [],
      "authorship_tag": "ABX9TyPDWgzyy8GWLP4GJs3ZHnZT",
      "include_colab_link": true
    },
    "kernelspec": {
      "name": "python3",
      "display_name": "Python 3"
    },
    "language_info": {
      "name": "python"
    }
  },
  "cells": [
    {
      "cell_type": "markdown",
      "metadata": {
        "id": "view-in-github",
        "colab_type": "text"
      },
      "source": [
        "<a href=\"https://colab.research.google.com/github/sulim1112/python/blob/main/5%EC%9E%A5_%EC%97%B0%EC%8A%B5%EB%AC%B8%EC%A0%9C.ipynb\" target=\"_parent\"><img src=\"https://colab.research.google.com/assets/colab-badge.svg\" alt=\"Open In Colab\"/></a>"
      ]
    },
    {
      "cell_type": "markdown",
      "metadata": {
        "id": "Vl3P1_c1e_Lr"
      },
      "source": [
        "5장 연습문제"
      ]
    },
    {
      "cell_type": "code",
      "metadata": {
        "colab": {
          "base_uri": "https://localhost:8080/"
        },
        "id": "9Mk6SHnXfIx0",
        "outputId": "812be749-8695-4c27-e0ed-c2b5ad397680"
      },
      "source": [
        "age = 20\n",
        "if age < 20:\n",
        "   print('20살 미만')\n",
        "else:\n",
        "   print('20살 이상')"
      ],
      "execution_count": 2,
      "outputs": [
        {
          "output_type": "stream",
          "name": "stdout",
          "text": [
            "20살 이상\n"
          ]
        }
      ]
    },
    {
      "cell_type": "code",
      "metadata": {
        "id": "sLTtgLAPgD4c"
      },
      "source": [
        "age = 20\n",
        "if age >=30 and age <=50:\n",
        "  print('30살 이상이고 50살 이하.')"
      ],
      "execution_count": 13,
      "outputs": []
    },
    {
      "cell_type": "code",
      "metadata": {
        "colab": {
          "base_uri": "https://localhost:8080/"
        },
        "id": "H7LtiB8igxzZ",
        "outputId": "bf50cb17-3a04-4072-a285-80ceddc1e3f1"
      },
      "source": [
        "temp = int(input(\"현재 온도를 입력하시오: \"))\n",
        "\n",
        "if temp >=25:\n",
        "   print(\"반바지를 입으세요\")\n",
        "else:\n",
        "   print(\"긴바지를 입으세요\")"
      ],
      "execution_count": 14,
      "outputs": [
        {
          "output_type": "stream",
          "name": "stdout",
          "text": [
            "현재 온도를 입력하시오: 18\n",
            "긴바지를 입으세요\n"
          ]
        }
      ]
    },
    {
      "cell_type": "code",
      "metadata": {
        "colab": {
          "base_uri": "https://localhost:8080/"
        },
        "id": "ZiL-4RLYhRw9",
        "outputId": "319d8544-d61d-4286-d50a-1f300f6c4f9b"
      },
      "source": [
        "score = int(input(\"성적을 입력하시오: \"))\n",
        "\n",
        "if score >= 90:\n",
        "   print(\"A학점 입니다.\")\n",
        "elif score >= 80:\n",
        "   print(\"B학점 입니다.\")\n",
        "elif score >= 70:\n",
        "   print(\"C학점 입니다.\")\n",
        "elif score >= 60:\n",
        "   print(\"D학점 입니다.\")\n",
        "else :\n",
        "  print(\"F학점 입니다.\")"
      ],
      "execution_count": 15,
      "outputs": [
        {
          "output_type": "stream",
          "name": "stdout",
          "text": [
            "성적을 입력하시오: 98\n",
            "A학점 입니다.\n"
          ]
        }
      ]
    },
    {
      "cell_type": "code",
      "metadata": {
        "colab": {
          "base_uri": "https://localhost:8080/"
        },
        "id": "q5BbnIh5iW2o",
        "outputId": "10fdb7db-6b23-4412-c6f9-7288485b654c"
      },
      "source": [
        "import random\n",
        "x = random.randint(1, 100)\n",
        "y = random.randint(1, 100)\n",
        "\n",
        "ans = int(input(str(x)+\"-\"))\n",
        "\n",
        "if ans == x-y :\n",
        "   print(\"맞았습니다.\")\n",
        "else :\n",
        "   print(\"틀렸습니다.\")"
      ],
      "execution_count": 18,
      "outputs": [
        {
          "output_type": "stream",
          "name": "stdout",
          "text": [
            "79-45\n",
            "틀렸습니다.\n"
          ]
        }
      ]
    },
    {
      "cell_type": "code",
      "metadata": {
        "colab": {
          "base_uri": "https://localhost:8080/"
        },
        "id": "l2-GQFJGjSgz",
        "outputId": "211e61ac-515c-48a1-c707-313aa139da6b"
      },
      "source": [
        "n = int(input(\"정수를 입력하시오: \"))\n",
        "if n%2==0 and n%3==0:\n",
        "   print(\"2와 3으로 나누어 떨어집니다.\")\n",
        "else :\n",
        "   print(\"2와 3으로 나누어 떨어지지 않습니다.\")"
      ],
      "execution_count": 19,
      "outputs": [
        {
          "output_type": "stream",
          "name": "stdout",
          "text": [
            "정수를 입력하시오: 48\n",
            "2와 3으로 나누어 떨어집니다.\n"
          ]
        }
      ]
    },
    {
      "cell_type": "code",
      "metadata": {
        "colab": {
          "base_uri": "https://localhost:8080/"
        },
        "id": "FJnOjT8Sj-fL",
        "outputId": "b364d415-3f69-40f8-9a71-0ade257c3434"
      },
      "source": [
        "import random\n",
        "solution = random.randint(0, 99)\n",
        "\n",
        "user = int(input(\"복권번호를 입력하시요(0에서 99사이): \"))\n",
        "\n",
        "digit1 = solution // 10\n",
        "digit2 = solution % 10\n",
        "\n",
        "u_digit1 = user // 10\n",
        "u_digit2 = user % 10\n",
        "\n",
        "print(\"당첨번호는\", solution, \"입니다.\")\n",
        "\n",
        "if (digit1 == u_digit1 and digit2 == u_digit2):\n",
        "   print(\"상금은 100만원 입니다.\")\n",
        "elif (digit1 == u_digit1\n",
        "      or digit1 == u_digit2\n",
        "      or digit2 == u_digit1\n",
        "      or digit2 == u_digit2):\n",
        "   print(\"상금은 50만원입니다.\")\n",
        "else:\n",
        "   print(\"상금은 없습니다.\")"
      ],
      "execution_count": 23,
      "outputs": [
        {
          "output_type": "stream",
          "name": "stdout",
          "text": [
            "복권번호를 입력하시요(0에서 99사이): 85\n",
            "당첨번호는 8 입니다.\n",
            "상금은 50만원입니다.\n"
          ]
        }
      ]
    },
    {
      "cell_type": "code",
      "metadata": {
        "id": "hA_n-7vlnpQG"
      },
      "source": [
        "import turtle\n",
        "t = turtle.Turtle()\n",
        "t.shape(\"turtle\")\n",
        "\n",
        "x1 = int(input(\"큰 원의 중심좌표 x1: \"))\n",
        "큰 원의 중심좌표 x1: 0\n",
        "y1 = int(input(\"큰 원의 중심좌표 y1: \"))\n",
        "큰 원의 중심좌표 y1: 0\n",
        "r1 = int(input(\"큰 원의 반지름: \"))\n",
        "큰 원의 반지름: 100\n",
        "x2 = int(input(\"작은 원의 중심좌표 x2: \"))\n",
        "작은 원의 중심좌표 x2: 10\n",
        "y2 = int(input(\"작은 원의 중심좌표 y2: \"))\n",
        "작은 원의 중심좌표 y2: 10\n",
        "r2 = int(input(\"작은 원의 반지름: \"))\n",
        "작은 원의 반지름: 50\n",
        "t.penup()\n",
        "t.goto(x1, y1)\n",
        "t.pendown()\n",
        "t.circle(r1)\n",
        "\n",
        "t.penup()\n",
        "t.goto(x2, y2)\n",
        "t.pendown()\n",
        "t.circle(r2)\n",
        "\n",
        "dist = ((x1 - x2) * (x1-x2) + (y1 -y2) * (y1 -y2)) ** 0.5\n",
        "if dist <= r1-r2:\n",
        "    turtle.write(\"두 번째 원이 첫번째 원의 내부에 있습니다.\")\n",
        "elif dist <= r1 + r2:\n",
        "    turtle.write(\"두 번째 원이 첫번째 원과 겹칩니다.\")\n",
        "else:\n",
        "    turtle.write(\"두 번째 원이 첫번째 원과 겹치지 않습니다.\")\n",
        "t._screen.exitonclick() # 화면을 마우스로 클릭해야 종료되게 하는 부분"
      ],
      "execution_count": null,
      "outputs": []
    },
    {
      "cell_type": "code",
      "metadata": {
        "id": "y_mKG-yctEqR"
      },
      "source": [
        "from turtle import*\n",
        "shape(\"turtle\")\n",
        "\n",
        "x1 = int(input(\"큰 원의 중심좌표 x1: \"))\n",
        "큰 원의 중심좌표 x1: 0\n",
        "y1 = int(input(\"큰 원의 중심좌표 y1: \"))\n",
        "큰 원의 중심좌표 y1: 0\n",
        "r1 = int(input(\"큰 원의 반지름: \"))\n",
        "큰 원의 반지름: 100\n",
        "x2 = int(input(\"작은 원의 중심좌표 x2: \"))\n",
        "작은 원의 중심좌표 x2: 10\n",
        "y2 = int(input(\"작은 원의 중심좌표 y2: \"))\n",
        "작은 원의 중심좌표 y2: 10\n",
        "r2 = int(input(\"작은 원의 반지름: \"))\n",
        "작은 원의 반지름: 50\n",
        "\n",
        "penup()\n",
        "goto(x1, y1)\n",
        "pendown()\n",
        "circle(r1)\n",
        "\n",
        "penup()\n",
        "goto(x2, y2)\n",
        "pendown()\n",
        "circle(r2)\n",
        "\n",
        "dist = ((x1 - x2) * (x1-x2) + (y1 -y2) * (y1 -y2)) ** 0.5\n",
        "if dist <= r1-r2:\n",
        "    write(\"두 번째 원이 첫번째 원의 내부에 있습니다.\")\n",
        "elif dist <= r1 + r2:\n",
        "    write(\"두 번째 원이 첫번째 원과 겹칩니다.\")\n",
        "else:\n",
        "    write(\"두 번째 원이 첫번째 원과 겹치지 않습니다.\")\n",
        "\n",
        "exitonclick() # 화면을 마우스로 클릭해야 종료되게 하는 부분"
      ],
      "execution_count": null,
      "outputs": []
    },
    {
      "cell_type": "code",
      "metadata": {
        "id": "iICXDgkcv56f"
      },
      "source": [
        ""
      ],
      "execution_count": null,
      "outputs": []
    }
  ]
}