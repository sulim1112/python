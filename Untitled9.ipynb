{
  "nbformat": 4,
  "nbformat_minor": 0,
  "metadata": {
    "colab": {
      "name": "Untitled9.ipynb",
      "provenance": [],
      "authorship_tag": "ABX9TyPfGv1EN7cV71LfDkH6oxuP",
      "include_colab_link": true
    },
    "kernelspec": {
      "name": "python3",
      "display_name": "Python 3"
    },
    "language_info": {
      "name": "python"
    }
  },
  "cells": [
    {
      "cell_type": "markdown",
      "metadata": {
        "id": "view-in-github",
        "colab_type": "text"
      },
      "source": [
        "<a href=\"https://colab.research.google.com/github/sulim1112/python/blob/main/Untitled9.ipynb\" target=\"_parent\"><img src=\"https://colab.research.google.com/assets/colab-badge.svg\" alt=\"Open In Colab\"/></a>"
      ]
    },
    {
      "cell_type": "markdown",
      "metadata": {
        "id": "K0mzLckQOM2z"
      },
      "source": [
        "4장연습문제\n"
      ]
    },
    {
      "cell_type": "code",
      "metadata": {
        "colab": {
          "base_uri": "https://localhost:8080/",
          "height": 35
        },
        "id": "xnPkrxNzOQFS",
        "outputId": "5c33b144-c796-476e-f85f-570550877350"
      },
      "source": [
        "#문자열과 숫자는 합칠 수가 없다. 숫자를 문자열로 변환한 후에 문자열과 합쳐야한다.\n",
        "'나는'+str(12)+'개의 사과를 먹었다.'"
      ],
      "execution_count": 1,
      "outputs": [
        {
          "output_type": "execute_result",
          "data": {
            "application/vnd.google.colaboratory.intrinsic+json": {
              "type": "string"
            },
            "text/plain": [
              "'나는12개의 사과를 먹었다.'"
            ]
          },
          "metadata": {},
          "execution_count": 1
        }
      ]
    },
    {
      "cell_type": "code",
      "metadata": {
        "colab": {
          "base_uri": "https://localhost:8080/"
        },
        "id": "qTCLH4U0PS11",
        "outputId": "760f51e5-e9fc-4cf2-d5f3-3a48a6fc03a3"
      },
      "source": [
        "str = input(\"문자열을 입력하시오: \")\n",
        "s = str[0:2] + str[-2:]\n",
        "print(s)"
      ],
      "execution_count": 4,
      "outputs": [
        {
          "output_type": "stream",
          "name": "stdout",
          "text": [
            "문자열을 입력하시오: 문자열\n",
            "문자자열\n"
          ]
        }
      ]
    },
    {
      "cell_type": "code",
      "metadata": {
        "colab": {
          "base_uri": "https://localhost:8080/"
        },
        "id": "asTEDnKOPxsd",
        "outputId": "b5c8958b-cf20-4544-e007-0d043c124954"
      },
      "source": [
        "s=input(\"문자열을 입력하시오: \")\n",
        "s+= \"하는 중\"\n",
        "print(s)"
      ],
      "execution_count": 5,
      "outputs": [
        {
          "output_type": "stream",
          "name": "stdout",
          "text": [
            "문자열을 입력하시오: 과제를\n",
            "과제를하는 중\n"
          ]
        }
      ]
    },
    {
      "cell_type": "code",
      "metadata": {
        "colab": {
          "base_uri": "https://localhost:8080/"
        },
        "id": "HnhChIP0QFKu",
        "outputId": "7e5a097b-e0f1-46b8-81cf-ca20af375917"
      },
      "source": [
        "str = input(\"기호를 입력하시오: \")\n",
        "word = input(\"중간에 삽입할 문자열을 입력하시오: \")\n",
        "s = str[:1]+word+str[1:]\n",
        "print(s)"
      ],
      "execution_count": 6,
      "outputs": [
        {
          "output_type": "stream",
          "name": "stdout",
          "text": [
            "기호를 입력하시오: !\n",
            "중간에 삽입할 문자열을 입력하시오: 반가워\n",
            "!반가워\n"
          ]
        }
      ]
    },
    {
      "cell_type": "code",
      "metadata": {
        "colab": {
          "base_uri": "https://localhost:8080/"
        },
        "id": "W6KaS_5YQotV",
        "outputId": "78ca757d-bc1b-4082-c263-892ba8cd5fb1"
      },
      "source": [
        "lista =[1,2,3,4]\n",
        "sum = 0\n",
        "sum = lista[0] + lista[1]+ lista[3]\n",
        "print(\"리스트=\", lista)\n",
        "print(\"리스트의 숫자들의 합 = \", sum)"
      ],
      "execution_count": 7,
      "outputs": [
        {
          "output_type": "stream",
          "name": "stdout",
          "text": [
            "리스트= [1, 2, 3, 4]\n",
            "리스트의 숫자들의 합 =  7\n"
          ]
        }
      ]
    },
    {
      "cell_type": "code",
      "metadata": {
        "id": "pUAKtpQzRKeR"
      },
      "source": [
        "import turtle\n",
        "t = turtle.Turtle()\n",
        "t.shape(\"turtle\")\n",
        "\n",
        "lista = []\n",
        "color = input(\"색상#1을 입력하시오: \")\n",
        "색상#1을 입력하시오: red\n",
        "lista.append(color)\n",
        "color = input(\"색상#2을 입력하시오: \")\n",
        "색상#2을 입력하시오: blue\n",
        "lista.append(color)\n",
        "color = input(\"색상#3을 입력하시오: \")\n",
        "색상#3을 입력하시오: yellow\n",
        "lista.append(color)\n",
        "\n",
        "t.fillcolor(lista[0])\n",
        "t.begin_fill()\n",
        "t.circle(50)\n",
        "t.end_fill()\n",
        "\n",
        "t.up()\n",
        "t.goto(200,0)\n",
        "t.down()\n",
        "t.fillcolor(lista[2])\n",
        "t.begin_fill()\n",
        "t.circle(50)\n",
        "t.end_fill()\n",
        "t._screen.exitonclick()  #화면을 마우스로 클릭해야 종료되게 하는 부분"
      ],
      "execution_count": null,
      "outputs": []
    },
    {
      "cell_type": "code",
      "metadata": {
        "id": "E-sUtGi_T_NZ"
      },
      "source": [
        "from turtle import*\n",
        "shape(\"turtle\")\n",
        "\n",
        "lista = []; color = input(\"색상#1을 입력하시오: \")\n",
        "색상#1을 입력하시오: blue\n",
        "lista.append(color); color = input(\"색상#2을 입력하시오: \")\n",
        "색상#2을 입력하시오: red\n",
        "lista.append(color); color = input(\"색상#3을 입력하시오: \")\n",
        "색상#3을 입력하시오: purple\n",
        "lista.append(color)\n",
        "\n",
        "fillcolor(lista[0]); begin_fill(); circle(50); end_fill()\n",
        "\n",
        "up(); goto(100,0); down(); fillcolor(lista[1]); begin_fill(); circle(50); end_fill()\n",
        "up(); goto(200,0); down(); fillcolor(lista[2]); begin_fill(); circle(50); end_fill()\n",
        "write(\"닫으려면 화면 클릭\"); exitonclick()  #화면을 마우스로 클릭해야 종료되게 하는 부분"
      ],
      "execution_count": null,
      "outputs": []
    },
    {
      "cell_type": "code",
      "metadata": {
        "id": "pZuc3zEXWNm0"
      },
      "source": [
        "import turtle\n",
        "t = turtle.Turtle()\n",
        "t.shape(\"turtle\")\n",
        "\n",
        "lista = []\n",
        "lista.append(int(input(\"x1: \")))\n",
        "x1: 0\n",
        "lista.append(int(input(\"y1: \")))\n",
        "y1: 0\n",
        "lista.append(int(input(\"x2: \")))\n",
        "x2: 100\n",
        "lista.append(int(input(\"y2: \")))\n",
        "y2: 100\n",
        "lista.append(int(input(\"x3: \")))\n",
        "x3: 200\n",
        "lista.append(int(input(\"y3: \")))\n",
        "y3: 100\n",
        "\n",
        "t.goto(lista[0], lista[1])\n",
        "t.goto(lista[2], lista[3])\n",
        "t.goto(lista[4], lista[5])\n",
        "t._screen.exitonclick()  #화면을 마우스로 클릭해야 종료되게 하는 부분"
      ],
      "execution_count": null,
      "outputs": []
    },
    {
      "cell_type": "code",
      "metadata": {
        "id": "MWx18lp9Zewb"
      },
      "source": [
        "from turtle import*\n",
        "shape(\"turtle\")\n",
        "\n",
        "lista = []\n",
        "lista.append(int(input(\"x1: \")))\n",
        "x1: 0\n",
        "lista.append(int(input(\"y1: \")))\n",
        "y1: 0\n",
        "lista.append(int(input(\"x2: \")))\n",
        "x2: 100\n",
        "lista.append(int(input(\"y2: \")))\n",
        "y2: 100\n",
        "lista.append(int(input(\"x3: \")))\n",
        "x3: 200\n",
        "lista.append(int(input(\"y3: \")))\n",
        "y3: 100\n",
        "\n",
        "t.goto(lista[0], lista[1])\n",
        "t.goto(lista[2], lista[3])\n",
        "t.goto(lista[4], lista[5])\n",
        "write(\"닫으려면 화면 클릭\"); exitonclick()  #화면을 마우스로 클릭해야 종료되게 하는 부분"
      ],
      "execution_count": null,
      "outputs": []
    },
    {
      "cell_type": "code",
      "metadata": {
        "id": "_J7smP4dapYA"
      },
      "source": [
        ""
      ],
      "execution_count": null,
      "outputs": []
    }
  ]
}