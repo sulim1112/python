{
  "nbformat": 4,
  "nbformat_minor": 0,
  "metadata": {
    "colab": {
      "name": "5장 도전문제",
      "provenance": [],
      "authorship_tag": "ABX9TyMzMBnOqBe5QCHSkHFOin/q",
      "include_colab_link": true
    },
    "kernelspec": {
      "name": "python3",
      "display_name": "Python 3"
    },
    "language_info": {
      "name": "python"
    }
  },
  "cells": [
    {
      "cell_type": "markdown",
      "metadata": {
        "id": "view-in-github",
        "colab_type": "text"
      },
      "source": [
        "<a href=\"https://colab.research.google.com/github/sulim1112/python/blob/main/5%EC%9E%A5_%EB%8F%84%EC%A0%84%EB%AC%B8%EC%A0%9C.ipynb\" target=\"_parent\"><img src=\"https://colab.research.google.com/assets/colab-badge.svg\" alt=\"Open In Colab\"/></a>"
      ]
    },
    {
      "cell_type": "markdown",
      "metadata": {
        "id": "XgAY06ttlJr7"
      },
      "source": [
        "5장 도전문제"
      ]
    },
    {
      "cell_type": "code",
      "metadata": {
        "colab": {
          "base_uri": "https://localhost:8080/"
        },
        "id": "tDapVnAdlPTo",
        "outputId": "3ce97a5d-3e2d-4773-cb40-3a1fca059d73"
      },
      "source": [
        "age = int(input(\"나이를 입력하시오: \"))\n",
        "if age > 15:\n",
        "  print(\"이 영화를 보실 수 있습니다. 영화의 가격은 10000원 입니다.\")\n",
        "else:\n",
        "  print(\"이 영화를 보실 수 없습니다. 다른 영화를 보시겠어요?\")"
      ],
      "execution_count": null,
      "outputs": [
        {
          "output_type": "stream",
          "name": "stdout",
          "text": [
            "나이를 입력하시오: 20\n",
            "이 영화를 보실 수 있습니다. 영화의 가격은 10000원 입니다.\n"
          ]
        }
      ]
    },
    {
      "cell_type": "code",
      "metadata": {
        "id": "AcGMEU1AmHeg"
      },
      "source": [
        "import turtle\n",
        "t = turtle.Turtle()  #거북이를 만든다\n",
        "t.width(3)  #거북이가 그리는 선의 두께를 3으로 한다.\n",
        "t.shape(\"turtle\")  #커서의 모양을 거북이로 한다.\n",
        "t.shapesize(3, 3)  #거북이를 3배 확대한다.\n",
        "\n",
        "#무한 루프이다\n",
        "while answer:\n",
        "  command = input(\"명령어를 입력하시오: \")\n",
        "  if command == \"l\" or command ==\"left\": #l 또는 left를 입력하면\n",
        "     t.left(90)\n",
        "     t.forward(100)\n",
        "  if command == \"r\" or command ==\"right\": #r 또는 right를 입력하면\n",
        "     t.right(90)\n",
        "     t.forward(100)"
      ],
      "execution_count": null,
      "outputs": []
    },
    {
      "cell_type": "code",
      "metadata": {
        "id": "JCDqVqqQpeTz"
      },
      "source": [
        "import turtle\n",
        " t = turtle.Turtle()  #거북이를 만든다\n",
        " t.width(3)  #거북이가 그리는 선의 두께를 3으로 한다.\n",
        " t.shape(\"turtle\")  #커서의 모양을 거북이로 한다.\n",
        " t.shapesize(3, 3)  #거북이를 3배 확대한다\n",
        " \n",
        " flag = Ture\n",
        "\n",
        "#루프 제어변수인 flag를 둔다.\n",
        " while flag:\n",
        "   command == input(\"명령어를 입력하시오: \")\n",
        "   if command == \"l\" or command == \"left\":  #l 또는 left를 입력하면\n",
        "     t.left(90) \n",
        "     t.forward(100)\n",
        " if command == \"r\" or command ==\"right\": #r 또는 right를 입력하면\n",
        "     t.right(90)\n",
        "     t.forward(100)   \n",
        " if command == \"q\" or command == \"quit\":  #q 또는quit를 입력하면\n",
        "    flag = false"
      ],
      "execution_count": null,
      "outputs": []
    },
    {
      "cell_type": "code",
      "metadata": {
        "colab": {
          "base_uri": "https://localhost:8080/"
        },
        "id": "-J8FsjHlrvWY",
        "outputId": "0e7f5aaf-45a0-4b27-973e-e55859d35d49"
      },
      "source": [
        "import random\n",
        "\n",
        "print(\"주사위 던지기 게임을 시작합니다.\")\n",
        "dice = random.randrange(6)+1\n",
        "print(\"주가위 눈은 \"+str(dice)+ \"입니다.\")\n",
        "print(\"게임이 종료되었습니다.\")"
      ],
      "execution_count": null,
      "outputs": [
        {
          "output_type": "stream",
          "name": "stdout",
          "text": [
            "주사위 던지기 게임을 시작합니다.\n",
            "주가위 눈은 4입니다.\n",
            "게임이 종료되었습니다.\n"
          ]
        }
      ]
    },
    {
      "cell_type": "code",
      "metadata": {
        "colab": {
          "base_uri": "https://localhost:8080/"
        },
        "id": "B7CWCfXxtGOp",
        "outputId": "271692b3-3350-487b-83a1-172db87f2655"
      },
      "source": [
        "import random\n",
        "time = random.randint(1,24)\n",
        "print(\"좋은 아침입니다. 지금 시각은 \" +str(time)+ \"시 입니다.\")\n",
        "#sunny = randomm.choice([True,False])\n",
        "#if sunny :\n",
        "#   print(\"현재 날씨가 화창합니다.\")\n",
        "#else:\n",
        "#   print(\"현재 날씨가 화창하지 않습니다.\")\n",
        "\n",
        "#종달새가 노래를 할 것인지를 판단해보자.\n",
        "if time >= 6 and time <9 and True:\n",
        "  print(\"종달새가 노래한다.\")\n",
        "\n",
        "elif time >= 14 and time <16 and True:\n",
        "  print(\"종달새가 노래한다.\")\n",
        "else:\n",
        "  print(\"종달새가 노래하지 않는다.\")"
      ],
      "execution_count": null,
      "outputs": [
        {
          "output_type": "stream",
          "name": "stdout",
          "text": [
            "좋은 아침입니다. 지금 시각은 11시 입니다.\n",
            "종달새가 노래하지 않는다.\n"
          ]
        }
      ]
    },
    {
      "cell_type": "code",
      "metadata": {
        "colab": {
          "base_uri": "https://localhost:8080/"
        },
        "id": "Lc-QWvsJwDAW",
        "outputId": "66a06c2b-c81d-4fb3-beb6-12921b4f564d"
      },
      "source": [
        "id = \"ilovepython\"\n",
        "pw = \"123456\"\n",
        "s = input(\"아이디를 입력하시오: \")\n",
        "if s == id:\n",
        "  p = input(\"패스워드를 입력하시오: \")\n",
        "  if p == pw:\n",
        "    print(\"환영합니다.\")\n",
        "  else:\n",
        "    print(\"비밀번호가 잘못되었습니다.\")\n",
        "\n",
        "else:\n",
        "    print(\"아이디를 찾을 수 없습니다.\")"
      ],
      "execution_count": null,
      "outputs": [
        {
          "output_type": "stream",
          "name": "stdout",
          "text": [
            "아이디를 입력하시오: ilovepython\n",
            "패스워드를 입력하시오: 123456\n",
            "환영합니다.\n"
          ]
        }
      ]
    },
    {
      "cell_type": "code",
      "metadata": {
        "colab": {
          "base_uri": "https://localhost:8080/"
        },
        "id": "GL6OxD8JxBl_",
        "outputId": "2f3f8271-84d2-4f05-dfec-ab64a02f1a42"
      },
      "source": [
        "import random\n",
        "options = [\"왼쪽 상단\", \"왼쪽하단\", \"중앙\", \"오른쪽 상단\", \"오른쪽 하단\"]\n",
        "computer_choice = random.choice(options)\n",
        "user_choice = input(\"어디를 수비하시겠어요?(왼쪽 상단, 왼쪽 하단, 중앙, 오른쪽 상단, 오른쪽 하단)\")\n",
        "if computer_choice == user_choice:\n",
        "  print(\"수비에 성공하셨습니다.\")\n",
        "else:\n",
        "  print(\"페널티 킥이 성공하였습니다.\")"
      ],
      "execution_count": null,
      "outputs": [
        {
          "output_type": "stream",
          "name": "stdout",
          "text": [
            "어디를 수비하시겠어요?(왼쪽 상단, 왼쪽 하단, 중앙, 오른쪽 상단, 오른쪽 하단)중앙\n",
            "수비에 성공하셨습니다.\n"
          ]
        }
      ]
    },
    {
      "cell_type": "code",
      "metadata": {
        "id": "0_X2QPU3yzVP"
      },
      "source": [
        "import turtle\n",
        "t = turtle.Turtle()\n",
        "t.shape(\"turtle\")\n",
        "\n",
        "s = turtle.textinput(\"\",\"도형을 입력하시오: \")\n",
        "if s == \"사각형\":\n",
        "    s = turtle.textinput(\"\",\"가로: \")\n",
        "    w = int(s)\n",
        "    s = turtle.textinput(\"\",\"세로: \")\n",
        "    h = int(s)\n",
        "    t.forward(w)\n",
        "    t.left(90)\n",
        "    t.forward(h)\n",
        "    t.left(90)\n",
        "    t.forward(w)\n",
        "    t.left(90)\n",
        "    t.forward(h)\n",
        "else s == \"삼각형\"\n",
        "     s = turtle.textinput(\"\",\"변\")\n",
        "     l = int(s)\n",
        "     t.forward(l)\n",
        "     t.left(120)\n",
        "     t.forward(l)\n",
        "     t.left(120)\n",
        "     t.forward(l)\n",
        "elif s == \"원\":\n",
        "     s = turtle.textinput(\"\",\"반지름: \")\n",
        "     r = int(s)\n",
        "     t.circle(r)\n",
        "else:\n",
        "    pass "
      ],
      "execution_count": null,
      "outputs": []
    }
  ]
}