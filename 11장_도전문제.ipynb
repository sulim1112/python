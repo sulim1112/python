{
  "nbformat": 4,
  "nbformat_minor": 0,
  "metadata": {
    "colab": {
      "name": "11장 도전문제",
      "provenance": [],
      "authorship_tag": "ABX9TyNt0hdsjjMHqqWhjrgbgFEB",
      "include_colab_link": true
    },
    "kernelspec": {
      "name": "python3",
      "display_name": "Python 3"
    },
    "language_info": {
      "name": "python"
    }
  },
  "cells": [
    {
      "cell_type": "markdown",
      "metadata": {
        "id": "view-in-github",
        "colab_type": "text"
      },
      "source": [
        "<a href=\"https://colab.research.google.com/github/sulim1112/python/blob/main/11%EC%9E%A5_%EB%8F%84%EC%A0%84%EB%AC%B8%EC%A0%9C.ipynb\" target=\"_parent\"><img src=\"https://colab.research.google.com/assets/colab-badge.svg\" alt=\"Open In Colab\"/></a>"
      ]
    },
    {
      "cell_type": "markdown",
      "source": [
        "page328.(1) "
      ],
      "metadata": {
        "id": "yQ3ozeTrPGzZ"
      }
    },
    {
      "cell_type": "code",
      "source": [
        "from tkinter import *\n",
        "import random\n",
        "\n",
        "def show(char): \n",
        "    display.delete(0,END)\n",
        "    display.insert(0,\"단어를 추측하시오:\") \n",
        "    global blanked\n",
        "\n",
        "blanked = 0 \n",
        "global guesses\n",
        "\n",
        "for char in word:\n",
        "    if char in guesses:  \n",
        "       display.insert(END,char)\n",
        "    else:\n",
        "        display.insert(END,\"_ \") blanked += 1\n",
        "\n",
        "def click(char): \n",
        "    show(char) \n",
        "    global turns \n",
        "    global label \n",
        "    global blanked\n",
        "\n",
        "    if blanked == 0:\n",
        "       label = Label(root, text = \"사용자 승리\",width = 20, height=1, fg=\"red\", relief=\"solid\")\n",
        "       label.grid(row=row_index,column=col_index,columnspan=5) chooseWord()\n",
        "       return\n",
        "\n",
        "    if char not in word: \n",
        "       turns -= 1\n",
        "       label = Label(root,text=str(turns)+\"번의 기회가 남았음!\", width=20, height=1, fg=\"red\", relief=\"solid\")\n",
        "       label.grid(row=row_index,column=col_index, columnspan=5)\n",
        "\n",
        "    if turns <= 0:\n",
        "      label = Label(root, text = \"사용자 패배\", width = 20, height=1, fg = \"red\", relief = \"solid\")\n",
        "      label.grid(row=row_index, column = col_index, columnspan=5) chooseWord()\n",
        "      return\n",
        "\n",
        "def chooseWord(): \n",
        "    global word \n",
        "    global turns \n",
        "    turns = 10 \n",
        "    global guesses\n",
        "\n",
        "    guesses = \"\" \n",
        "    global label\n",
        "    label\t  =\tLabel(root,text=str(turns)+\"번의\t기회가\t남았음!\",\twidth=20,\theight=1, fg=\"red\", relief=\"solid\")\n",
        "\n",
        "    infile = open(\"words.txt\",\"r\") \n",
        "    lines   =   infile.readlines() \n",
        "    word = random.choice(lines) \n",
        "    word = word.replace(\" \",\"\")\n",
        "    word = word.replace(\"\\n\",\"\")\n",
        "\n",
        "    show(\"\")\n",
        "\n",
        "root = Tk() \n",
        "root.title(\"Hangman Game\") \n",
        "root.geometry(\"300x225\")\n",
        "display = Entry(root, width=33, bg=\"yellow\") \n",
        "display.grid(row=0,column=0,columnspan=5)\n",
        "\n",
        "guesses = \"\"\n",
        "turns = 10 \n",
        "word=\"\"\n",
        "\n",
        "chooseWord()\n",
        "\n",
        "button_list\n",
        "=\n",
        "['a','b','c','d','e','f','g','h','i','j','k','l','m','n','o','p','q','r','s','t','u','v','w','x','y','z']\n",
        "\n",
        "row_index=1 \n",
        "col_index=0\n",
        "\n",
        "blanked = 0 \n",
        "display.delete(0,END)\n",
        "display.insert(0,\"단어를 추측하시오:\") \n",
        "show(\"\")\n",
        "\n",
        "for button_text in button_list:\n",
        "    def process(guess=button_text): \n",
        "      global guesses\n",
        "\n",
        "    global turns \n",
        "    guesses += guess \n",
        "    click(guess)\n",
        "\n",
        "Button(root,text=button_text,width=5,command=process).grid(row=row_index,column=c ol_index)\n",
        "    col_index += 1 if col_index > 4:\n",
        "    row_index += 1\n",
        "    col_index = 0\n",
        "\n",
        "row_index += 1 \n",
        "root.mainloop()"
      ],
      "metadata": {
        "id": "9pOiycPHPIJN"
      },
      "execution_count": null,
      "outputs": []
    },
    {
      "cell_type": "markdown",
      "source": [
        "page333.(1) "
      ],
      "metadata": {
        "id": "LCugpZgRQ0dn"
      }
    },
    {
      "cell_type": "code",
      "source": [
        "import pickle\n",
        "# 게임에서 사용되는 딕셔너리\n",
        "addressBook\t=\t{\"names\":[\"김김김\",\"이이이\",\"박박박\",\"홍길동 \"],\"mails\":[\"aaa@gmail.com\",\"bbb@gmail.com\",\"ccc@gmail.com\",\"ddd@gmail.com\"],\"addre ss\":[\"seoul\",\"daejeon\",\"daegu\",\"busan\"]}\n",
        "# 이진 파일 오픈\n",
        "file = open(\"save.p\",\"wb\")\n",
        "# 딕셔너리를 피클 파일에 저장 \n",
        "pickle.dump(addressBook,file) \n",
        "# 파일을 닫는다.\n",
        "file.close()\n",
        "\n",
        "# 이진 파일 오픈\n",
        "file = open(\"save.p\",\"rb\")\n",
        "# 피클 파일에 딕셔너리를 로딩 \n",
        "obj = pickle.load(file) print(obj)"
      ],
      "metadata": {
        "id": "nlE0kPLNQ2ml"
      },
      "execution_count": null,
      "outputs": []
    }
  ]
}