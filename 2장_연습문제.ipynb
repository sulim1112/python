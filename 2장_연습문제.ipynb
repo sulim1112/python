{
  "nbformat": 4,
  "nbformat_minor": 0,
  "metadata": {
    "colab": {
      "name": "2장 연습문제",
      "provenance": [],
      "authorship_tag": "ABX9TyPK6+NXHj4ij+NhyFA/vdMo",
      "include_colab_link": true
    },
    "kernelspec": {
      "name": "python3",
      "display_name": "Python 3"
    },
    "language_info": {
      "name": "python"
    }
  },
  "cells": [
    {
      "cell_type": "markdown",
      "metadata": {
        "id": "view-in-github",
        "colab_type": "text"
      },
      "source": [
        "<a href=\"https://colab.research.google.com/github/sulim1112/python/blob/main/2%EC%9E%A5_%EC%97%B0%EC%8A%B5%EB%AC%B8%EC%A0%9C.ipynb\" target=\"_parent\"><img src=\"https://colab.research.google.com/assets/colab-badge.svg\" alt=\"Open In Colab\"/></a>"
      ]
    },
    {
      "cell_type": "markdown",
      "metadata": {
        "id": "eLIyihlxCeLs"
      },
      "source": [
        "2장 연습문제"
      ]
    },
    {
      "cell_type": "code",
      "metadata": {
        "colab": {
          "base_uri": "https://localhost:8080/"
        },
        "id": "SlXhoF5lChE3",
        "outputId": "cd42ddf3-a241-4a16-e6df-9bf4047fdac3"
      },
      "source": [
        "name = input(\"이름을 입력하시오: \")\n",
        "age = int(input(\"나이를 입력하시오: \"))\n",
        "year = 2021-age+100\n",
        "print(name + \"씨는\" + str(year) + \"년에 100살이시네요!\")"
      ],
      "execution_count": null,
      "outputs": [
        {
          "output_type": "stream",
          "name": "stdout",
          "text": [
            "이름을 입력하시오: 배수림\n",
            "나이를 입력하시오: 20\n",
            "배수림씨는2101년에 100살이시네요!\n"
          ]
        }
      ]
    },
    {
      "cell_type": "code",
      "metadata": {
        "colab": {
          "base_uri": "https://localhost:8080/"
        },
        "id": "Pta3vquBDr_K",
        "outputId": "36edf2c2-8a02-4d59-f24a-8beef21a0793"
      },
      "source": [
        "n1 = int(input(\"첫 번째 숫자를 입력하시오: \"))\n",
        "n2 = int(input(\"두 번쨰 숫자를 입력하시오: \"))\n",
        "n3 = int(input(\"세 번째 숫자를 입력하시오: \"))\n",
        "\n",
        "average = (n1 + n2 + n3) / 3\n",
        "\n",
        "print(n1, n2, n3, \"의 평균은\", average, \"입니다.\")"
      ],
      "execution_count": null,
      "outputs": [
        {
          "output_type": "stream",
          "name": "stdout",
          "text": [
            "첫 번째 숫자를 입력하시오: 40\n",
            "두 번쨰 숫자를 입력하시오: 25\n",
            "세 번째 숫자를 입력하시오: 60\n",
            "40 25 60 의 평균은 41.666666666666664 입니다.\n"
          ]
        }
      ]
    },
    {
      "cell_type": "code",
      "metadata": {
        "colab": {
          "base_uri": "https://localhost:8080/"
        },
        "id": "f26wo2lqIgzE",
        "outputId": "d3206d45-b15a-4027-f5aa-243e02847330"
      },
      "source": [
        "radius = int(input(\"반지름을 입력하시오: \"))\n",
        "area = 3.141592 * radius * radius\n",
        "print(\"반지름이\", radius, \"인 원의 넓이=\", area, \"입니다.\")"
      ],
      "execution_count": null,
      "outputs": [
        {
          "output_type": "stream",
          "name": "stdout",
          "text": [
            "반지름을 입력하시오: 60\n",
            "반지름이 60 인 원의 넓이= 11309.7312 입니다.\n"
          ]
        }
      ]
    },
    {
      "cell_type": "code",
      "metadata": {
        "id": "kGgrFIatJUvU"
      },
      "source": [
        "import turtle\n",
        "t = turtle.Turtle()\n",
        "t.shape(\"turtle\")\n",
        "\n",
        "radius=50\n",
        "t.up()\n",
        "t.goto(0,0)\n",
        "t.down()\n",
        "t.circle(radius)\n",
        "\n",
        "radius = radius + 20\n",
        "t.up()\n",
        "t.goto(100,0)\n",
        "t.down()\n",
        "t.circle(radius)\n",
        "\n",
        "radius = radius +20\n",
        "t.up()\n",
        "t.goto(200,0)\n",
        "t.down()\n",
        "t.circle(radius)\n",
        "t._screen.exitonclick() #화면을 마우스로 클릭해야 종료되게 하는 부분"
      ],
      "execution_count": null,
      "outputs": []
    },
    {
      "cell_type": "code",
      "metadata": {
        "id": "OhVmfm4vKsWD"
      },
      "source": [
        "from turtle import*\n",
        "shape(\"turtle\")\n",
        "\n",
        "radius = 50\n",
        "up()\n",
        "goto(0,0)\n",
        "down()\n",
        "circle(radius)\n",
        "\n",
        "radius = radius + 20\n",
        "up()\n",
        "goto(100,0)\n",
        "circle(radius)\n",
        "\n",
        "radius = radius + 20\n",
        "up()\n",
        "goto(200,0)\n",
        "down()\n",
        "circle(radius)\n",
        "exitonclick()"
      ],
      "execution_count": null,
      "outputs": []
    },
    {
      "cell_type": "code",
      "metadata": {
        "id": "lqVgqQRMMb5S"
      },
      "source": [
        "import turtle\n",
        "t = turtle.Turtle()\n",
        "t.shape(\"turtle\")\n",
        "\n",
        "side=50\n",
        "\n",
        "t.forward(side)\n",
        "t.left(120)\n",
        "t.forward(side)\n",
        "t.left(120)\n",
        "t.forward(side)\n",
        "t.left(120)\n",
        "t._screen.exitionclick()"
      ],
      "execution_count": null,
      "outputs": []
    },
    {
      "cell_type": "code",
      "metadata": {
        "id": "Y8s91gCxN0Tv"
      },
      "source": [
        "from turtle import*\n",
        "shape(\"turtle\")\n",
        "\n",
        "radius=50; up(); goto(0,0); down(); circle(radius)\n",
        "radius = radius + 20; up(); goto(100,0); down(); circle(radius)\n",
        "radius = radius + 20; up(); goto(200,0); down(); circle(radius)\n",
        "exitonclick()"
      ],
      "execution_count": null,
      "outputs": []
    },
    {
      "cell_type": "code",
      "metadata": {
        "id": "pUXYlcWKPj0B"
      },
      "source": [
        "import turtle\n",
        "t = turtle.Turtle()\n",
        "t,shape(\"turtle\")\n",
        "\n",
        "side=200\n",
        "t.forward(side)\n",
        "t.left(120)\n",
        "t.forward(side)\n",
        "t.left(120)\n",
        "t.forward(side)\n",
        "t.left(120)\n",
        "t._screen.exitonclick()"
      ],
      "execution_count": null,
      "outputs": []
    },
    {
      "cell_type": "code",
      "metadata": {
        "id": "TFih6YOCQL8l"
      },
      "source": [
        "from turtle import*\n",
        "shape(\"turtle\")\n",
        "\n",
        "side=200; fd(side); left(120); fd(side); left(120); fd(side); left(120)\n",
        "exitonclick()"
      ],
      "execution_count": null,
      "outputs": []
    },
    {
      "cell_type": "code",
      "metadata": {
        "id": "33t18BgSRevS"
      },
      "source": [
        "import turtle\n",
        "t = turtle.Turtle()\n",
        "t.shape(\"turtle\")\n",
        "side = 50\n",
        "angle = 90\n",
        "\n",
        "t.forward(side); t.right(angle); t.forward(side); t.right(angle); t.forward(side); t.right(angle); t.forward(side) #줄의 끝이어서 ;가 없음.\n",
        "t.forward(side); t.right(angle); t.forward(side); t.right(angle); t.forward(side)\n",
        "t.right(angle); t.forward(100); t.right(180) #줄의 끝이어서 ;가 없음.\n",
        "t.forward(side); t.right(angle); t.forward(side); t.right(angle); t.forward(side); t.right(angle); t.forward(side) #줄의 끝이어서 ;가 없음.\n",
        "\n",
        "t.forward(side); t.right(angle); t.forward(side); t.right(angle); t.forward(side); t.write(\"닫으려면 화면 클릭\"); t._screen.exitonclick()"
      ],
      "execution_count": null,
      "outputs": []
    },
    {
      "cell_type": "code",
      "metadata": {
        "id": "I7X31Q3HTUrN"
      },
      "source": [
        "from turtle import*\n",
        "shape(\"turtle\"); side = 50; angle = 90\n",
        "\n",
        "forward(side); right(angle); forward(side); right(angle); forward(side); right(angle); forward(side) #줄의 끝이라서 ;가 없음.\n",
        "\n",
        "forward(side); right(angle); forward(side); right(angle); forward(side) #줄의 끝이라서 ;가 없음.\n",
        "\n",
        "right(angle); forward(100); right(180)\n",
        "\n",
        "forward(side); right(angle); forward(side); right(angle); forward(side); right(angle); forward(side) \n",
        "\n",
        "forward(side); right(angle); forward(side); right(angle); forward(side)\n",
        "write(\"닫으려면 화면 클릭\"); t._screen.exitonclick()"
      ],
      "execution_count": null,
      "outputs": []
    }
  ]
}