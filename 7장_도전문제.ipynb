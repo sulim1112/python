{
  "nbformat": 4,
  "nbformat_minor": 0,
  "metadata": {
    "colab": {
      "name": "7장 도전문제",
      "provenance": [],
      "authorship_tag": "ABX9TyMv29daZom/6oQEYkzidFDC",
      "include_colab_link": true
    },
    "kernelspec": {
      "name": "python3",
      "display_name": "Python 3"
    },
    "language_info": {
      "name": "python"
    }
  },
  "cells": [
    {
      "cell_type": "markdown",
      "metadata": {
        "id": "view-in-github",
        "colab_type": "text"
      },
      "source": [
        "<a href=\"https://colab.research.google.com/github/sulim1112/python/blob/main/7%EC%9E%A5_%EB%8F%84%EC%A0%84%EB%AC%B8%EC%A0%9C.ipynb\" target=\"_parent\"><img src=\"https://colab.research.google.com/assets/colab-badge.svg\" alt=\"Open In Colab\"/></a>"
      ]
    },
    {
      "cell_type": "code",
      "execution_count": null,
      "metadata": {
        "id": "7oaVAPGlMOMQ"
      },
      "outputs": [],
      "source": [
        "import turtle  #터틀그래픽 모듈을 불러온다.\n",
        "import random \n",
        "\n",
        "def free(length):\n",
        "  angle = (random.randint(-20,20))\n",
        "  if length > 5:  #length가 5보다 크면 순환호출을 한다.\n",
        "    t.forward(length) #거북이가 length만큼 선을 그린다.\n",
        "    t.right(20 + angle) #랜덤한 각도만큼 오른쪽으로 회전한다.\n",
        "    tree(length-15*(random.random()+0.4))  #랜덤한 값을 인수로 tree()를 호출한다.\n",
        "    t.left(40 + (angle*2))  #랜덤한 각도만큼 왼쪽으로 회전한다.\n",
        "    tree(length-15*(random.random()+0.4)) \n",
        "    t.right(20+angle) #랜덤한 각도만큼 오른쪽으로 회전한다.    \n",
        "    t.backward(length) #length만큼 뒤로 간다. 제자리로 돌아온다.\n",
        "t = turtle.Turtle()\n",
        "t.left(90)\n",
        "\n",
        "t.color(\"green\")\n",
        "t.speed(1)\n",
        "tree(90)"
      ]
    }
  ]
}