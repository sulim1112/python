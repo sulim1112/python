{
  "nbformat": 4,
  "nbformat_minor": 0,
  "metadata": {
    "colab": {
      "name": "2장 도전문제",
      "provenance": [],
      "authorship_tag": "ABX9TyOgqPglWdtNLG2fYw+GVkhz",
      "include_colab_link": true
    },
    "kernelspec": {
      "name": "python3",
      "display_name": "Python 3"
    },
    "language_info": {
      "name": "python"
    }
  },
  "cells": [
    {
      "cell_type": "markdown",
      "metadata": {
        "id": "view-in-github",
        "colab_type": "text"
      },
      "source": [
        "<a href=\"https://colab.research.google.com/github/sulim1112/python/blob/main/2%EC%9E%A5_%EB%8F%84%EC%A0%84%EB%AC%B8%EC%A0%9C.ipynb\" target=\"_parent\"><img src=\"https://colab.research.google.com/assets/colab-badge.svg\" alt=\"Open In Colab\"/></a>"
      ]
    },
    {
      "cell_type": "code",
      "metadata": {
        "id": "d0qXP-Yo40Q5"
      },
      "source": [
        ""
      ],
      "execution_count": null,
      "outputs": []
    },
    {
      "cell_type": "markdown",
      "metadata": {
        "id": "0LC4f3gI40sZ"
      },
      "source": [
        "2장 도전문제"
      ]
    },
    {
      "cell_type": "code",
      "metadata": {
        "colab": {
          "base_uri": "https://localhost:8080/"
        },
        "id": "yKztMWet44Lk",
        "outputId": "65b3e709-6b8e-4196-b765-a1650b80745e"
      },
      "source": [
        "x = 7\n",
        "y = 6\n",
        "print(x+y)"
      ],
      "execution_count": null,
      "outputs": [
        {
          "output_type": "stream",
          "name": "stdout",
          "text": [
            "13\n"
          ]
        }
      ]
    },
    {
      "cell_type": "code",
      "metadata": {
        "colab": {
          "base_uri": "https://localhost:8080/"
        },
        "id": "73YDD5Hj5Noo",
        "outputId": "7de2c889-fdc6-414f-cc7d-3ce17b84d254"
      },
      "source": [
        "x = '7'\n",
        "y = '6'\n",
        "print(x + y)"
      ],
      "execution_count": null,
      "outputs": [
        {
          "output_type": "stream",
          "name": "stdout",
          "text": [
            "76\n"
          ]
        }
      ]
    },
    {
      "cell_type": "code",
      "metadata": {
        "id": "30f3Em1X5hFY"
      },
      "source": [
        "import turtle\n",
        "t = turtle.Turtle()\n",
        "t.shape(\"turtle\")\n",
        "radius = 50  #변수radius와 값을 선언\n",
        "x = 30  #변수x와 값을 선언\n",
        "t.circle(radius) #반지름이 50인 원이 그려진다\n",
        "t.fd(x) #fd는 forward와 같은 명령어이다. 앞으로 30만큼 움직인다.\n",
        "t.circle(radius) #반지름이 50인 원이 그려진다.\n",
        "x = 50 #움직이는 거리를 담는 변수 x의 값을 50픽셀로 수정한다.\n",
        "t.fd(x)  #앞으로 50만큼 움직인다. fd는 forword의 약자\n",
        "t.circle(radius)  #반지름이 50인 원이 그려진다.\n"
      ],
      "execution_count": null,
      "outputs": []
    },
    {
      "cell_type": "code",
      "metadata": {
        "id": "pcn_85at-g1B"
      },
      "source": [
        "x = int(intput(\"첫 번째 정수를 입력하시오:\"))\n",
        "y = int(intput(\"두 번째 정수를 입력하시오:\"))\n",
        "\n",
        "print(x,\"+\", y, \"=\", x+y)  #더하기\n",
        "print(x,\"-\", y, \"=\", x-y)  #빼기\n",
        "print(x,\"*\", y, \"=\", x*y)  #곱하기\n",
        "print(x,\"/\", y, \"=\", x/y)  #나누기"
      ],
      "execution_count": null,
      "outputs": []
    },
    {
      "cell_type": "code",
      "metadata": {
        "id": "_4NrVl-5-h1p"
      },
      "source": [
        ""
      ],
      "execution_count": null,
      "outputs": []
    }
  ]
}