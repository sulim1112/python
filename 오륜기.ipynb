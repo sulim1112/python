{
  "nbformat": 4,
  "nbformat_minor": 0,
  "metadata": {
    "colab": {
      "name": "오륜기",
      "provenance": [],
      "authorship_tag": "ABX9TyOuZR6u/6xNckdXsPTWrSkI",
      "include_colab_link": true
    },
    "kernelspec": {
      "name": "python3",
      "display_name": "Python 3"
    },
    "language_info": {
      "name": "python"
    }
  },
  "cells": [
    {
      "cell_type": "markdown",
      "metadata": {
        "id": "view-in-github",
        "colab_type": "text"
      },
      "source": [
        "<a href=\"https://colab.research.google.com/github/sulim1112/python/blob/main/%EC%98%A4%EB%A5%9C%EA%B8%B0.ipynb\" target=\"_parent\"><img src=\"https://colab.research.google.com/assets/colab-badge.svg\" alt=\"Open In Colab\"/></a>"
      ]
    },
    {
      "cell_type": "markdown",
      "metadata": {
        "id": "4KduNO_E3NeU"
      },
      "source": [
        "오륜기"
      ]
    },
    {
      "cell_type": "code",
      "metadata": {
        "id": "inBfJXiP3QVu"
      },
      "source": [
        "import turtle \n",
        "t = turtle.Turtle()\n",
        "t.shape(\"turtle\")\n",
        "\n",
        "t.up(); t.width(5); t.color(\"blue\"); t.goto(-150, 0); t.down(); t.circle(80)\n",
        "t.up(); t.width(5); t.color(\"black\"); t.goto(-30, 0); t.down(); t.circle(80)\n",
        "t.up(); t.width(5); t.color(\"red\"); t.goto(100, 0); t.down(); t.circle(80)\n",
        "t.up(); t.width(5); t.color(\"yellow\"); t.goto(-90, -90); t.down(); t.circle(80)\n",
        "t.up(); t.width(5); t.color(\"green\"); t.goto(40, -90); t.down(); t.circle(80)\n",
        "t.write(\"종료하려면 화면클릭\")\n",
        "t._screen.exitonclick()  #화면을 마우스로 클릭해야 종료되게 하는 부분"
      ],
      "execution_count": null,
      "outputs": []
    },
    {
      "cell_type": "code",
      "metadata": {
        "id": "qDpT9vC45Bzs"
      },
      "source": [
        "from turtle import*\n",
        "shape(\"turtle\");\n",
        "\n",
        "t.up(); t.width(5); t.color(\"blue\"); t.goto(-150, 0); t.down(); t.circle(80)\n",
        "t.up(); t.width(5); t.color(\"black\"); t.goto(-30, 0); t.down(); t.circle(80)\n",
        "t.up(); t.width(5); t.color(\"red\"); t.goto(100, 0); t.down(); t.circle(80)\n",
        "t.up(); t.width(5); t.color(\"yellow\"); t.goto(-90, -90); t.down(); t.circle(80)\n",
        "t.up(); t.width(5); t.color(\"green\"); t.goto(40, -90); t.down(); t.circle(80)\n",
        "write(\"종료하려면 화면클릭\")\n",
        "exitonclick()  #화면을 마우스로 클릭해야 종료되게 하는 부분"
      ],
      "execution_count": null,
      "outputs": []
    }
  ]
}